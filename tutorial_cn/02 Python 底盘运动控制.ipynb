{
 "cells": [
  {
   "cell_type": "markdown",
   "id": "6da00feb-aead-49c2-8327-eb337132dd58",
   "metadata": {},
   "source": [
    "# Python 底盘运动控制\n",
    "\n",
    "在本章节中我们会写一个Python例程，用于控制机器人底盘运动，你也可以自行使用其它语言来进行机器人底盘的运动控制。\n",
    "\n",
    "## 底盘控制原理\n",
    "\n",
    "在本例程中，我们使用 JupyterLab 中的代码块，生成一串 JSON 指令，通过树莓派的 GPIO 串口（默认与下位机通信的波特率为115200），将这个 JSON 指令发送给下位机，下位机收到指令后开始执行动作。\n",
    "\n",
    "你可以参考后续的章节来了解都可以给下位机发送什么样的指令，你也可以使用其它语言来实现这一功能，或者自己写一个上位机的应用。\n",
    "\n",
    "## 这样设计的优点\n",
    "\n",
    "我们使用上位机+下位机的架构可以充分解放上位机的宝贵资源，上位机（树莓派，Jetson 等 SBC）类似人类的大脑，ESP32作为下位机类似人类的小脑，上位机执行视觉处理/决策方面的高阶控制，下位机执行具体的运动控制/插值等低阶控制。这样可以做到大小脑分工合作，下位机负责高频PID控制可保证车轮转速准确，上位机也不需要在这类低复杂度高算力的工作上浪费资源。"
   ]
  },
  {
   "cell_type": "markdown",
   "id": "5a780279-2df9-412e-b89e-712709d9d755",
   "metadata": {},
   "source": [
    "## 主程序 app.py\n",
    "\n",
    "项目文件夹中的 app.py，这个是产品的主程序，当你执行过 autorun.sh 后(产品默认出厂是已经配置好自动运行的了)，app.py 会在未来每次开机时自动运行，它的运行会占用 GPIO串口 和 摄像头资源，如果你在交互式教程中或者其它程序中需要用到这些资源可能会引发冲突或其它错误，二次开发或学习前，务必关闭掉 app.py 的自动启动。\n",
    "\n",
    "由于 app.py 中使用了多线程,且开机时它使用 crontab 来自动运行,所以通常不能使用 sudo killall python 这样的指令来关闭 app.py, 你需要在 crontab 中注释掉运行 app.py 的那一行然后再重启机器人产品。\n",
    "\n",
    "> crontab -e\n",
    "\n",
    "首次使用该命令后，会询问你希望使用什么编辑器来打开这个 crontab 文件，推荐选择 nano，输入 nano 对应的序号即可，然后按回车键确认。\n",
    "\n",
    "用 # 注释掉 ...... app.py 这一行"
   ]
  },
  {
   "cell_type": "code",
   "execution_count": null,
   "id": "d6dba770-7fe9-4fc0-bef4-3a5300fe45d8",
   "metadata": {},
   "outputs": [],
   "source": [
    "# @reboot ~/ugv_pt_rpi/ugv-env/bin/python ~/ugv_pt_rpi/app.py >> ~/ugv.log 2>&1\r\n",
    "@reboot /bin/bash ~/ugv_pt_rpi/start_jupyter.sh >> ~/jupyter_log.log 2>&1"
   ]
  },
  {
   "cell_type": "markdown",
   "id": "5b7c4809-7396-4597-b495-d07c1b7ca4c3",
   "metadata": {},
   "source": [
    "注意：千万不要注释掉 start_jupyter.sh 这一行，否则开机后你将不能使用 jupyterLab 使用交互式教程。\n",
    "\n",
    "然后退出并保存变更，具体方法为，编辑 crontab 的内容后，按 ctrl + x，退出 nano，由于你编辑过 crontab 文件了，所以它会问你是否保存变更（Save modified buffer？），输入字母 Y，然后按回车退出，即可保存变更。\n",
    "\n",
    "再次重启设备开机后产品主程序就不会自动运行了，你可以随意使用 JupyterLab 中的教程了，后续如果你需要再恢复主程序开机自动运行时，可以再使用上面的方法打开 crontab 问价，然后删除掉 @ 前面的 '# ' 符号，退出并保存变更，这样就能恢复主程序的开机自动运行了。"
   ]
  },
  {
   "cell_type": "markdown",
   "id": "c929d2bf-6294-4d6c-b090-22019decabc4",
   "metadata": {},
   "source": [
    "## 底盘控制例程\n",
    "\n",
    "在下面的例程中，我们使用 is_raspberry_pi5() 函数来判断当前的树莓派型号，因为树莓派4B和树莓派5的 GPIO 串口的设备名称是不同的，你需要使用正确的 GPIO 设备名称，且使用与下位机相同的波特率（默认为115200）。\n",
    "\n",
    "运行以下代码块之前你需要先将产品架高起量，保持驱动轮全部离地，调用以下代码块后机器人会开始走动，小心不要让机器人从桌面上掉落。"
   ]
  },
  {
   "cell_type": "code",
   "execution_count": null,
   "id": "25274323-564f-4843-9b9a-2ff44fa28e06",
   "metadata": {},
   "outputs": [],
   "source": [
    "from base_ctrl import BaseController\n",
    "import time\n",
    "\n",
    "# 用于检测树莓派的函数\n",
    "def is_raspberry_pi5():\n",
    "    with open('/proc/cpuinfo', 'r') as file:\n",
    "        for line in file:\n",
    "            if 'Model' in line:\n",
    "                if 'Raspberry Pi 5' in line:\n",
    "                    return True\n",
    "                else:\n",
    "                    return False\n",
    "\n",
    "# 根据树莓派的型号来确定 GPIO 串口设备名称\n",
    "if is_raspberry_pi5():\n",
    "    base = BaseController('/dev/ttyAMA0', 115200)\n",
    "else:\n",
    "    base = BaseController('/dev/serial0', 115200)\n",
    "\n",
    "# 轮子以0.2m/s的速度转动2秒钟后停止\n",
    "base.send_command({\"T\":1,\"L\":0.2,\"R\":0.2})\n",
    "time.sleep(2)\n",
    "base.send_command({\"T\":1,\"L\":0,\"R\":0})"
   ]
  },
  {
   "cell_type": "markdown",
   "id": "e25ee24d-0323-433c-ac41-cb603c02211a",
   "metadata": {},
   "source": [
    "通过调用上面的代码块，树莓派会首先发送 {\"T\":1,\"L\":0.2,\"R\":0.2} 这条指令（后面章节我们会再具体介绍指令的构成），车轮开始转动，间隔两秒钟后树莓派会发送 {\"T\":1,\"L\":0,\"R\":0} 这条指令，车轮会停止转动，这里需要注意的一点是，即使不发送后面的停止车轮转动的指令，如果你没有发送新的指令，车轮依然会停止转动，这是因为下位机内含有心跳函数，心跳函数的做用是在上位机长时间没有新的指令发送给下位机时，下位机自动停止目前的移动指令，改函数的目的是为了避免上位机由于某些原因死机而导致下位机继续运动。\r\n",
    "\r\n",
    "如果你希望机器人一直持续不断地运动下去，上位机需要每隔2秒-4秒循环发送运动控制的指令。"
   ]
  },
  {
   "cell_type": "markdown",
   "id": "a3caddf9-1d07-47ca-b3e4-a705d4a3398f",
   "metadata": {},
   "source": [
    "## 底盘转向原理\n",
    "\n",
    "上面的例程中，你可以控制机器人向前走两秒钟后停止，后续可以通过更改参数来对底盘进行转向控制，底盘采用差速转向原理进行运动控制。\n",
    "\n",
    "当车辆转弯时，内侧轮（转向方向相同的那一侧）需要行进更短的距离，因此需要旋转得更慢，以保持车辆的稳定性。\n",
    "差速器通过允许两个驱动轮以不同速度旋转来实现这一目标。通常情况下，外侧轮（转向方向相反的那一侧）旋转得更快，而内侧轮旋转得更慢。\n",
    "这种不同的旋转速度导致车辆产生转向运动，从而使其沿着预期的方向转向。\n",
    "\n",
    "你可以给两侧车轮不同的目标线速度来控制车辆的转向，并且可以轻松地调整转向半径。"
   ]
  }
 ],
 "metadata": {
  "kernelspec": {
   "display_name": "Python 3 (ipykernel)",
   "language": "python",
   "name": "python3"
  },
  "language_info": {
   "codemirror_mode": {
    "name": "ipython",
    "version": 3
   },
   "file_extension": ".py",
   "mimetype": "text/x-python",
   "name": "python",
   "nbconvert_exporter": "python",
   "pygments_lexer": "ipython3",
   "version": "3.11.2"
  }
 },
 "nbformat": 4,
 "nbformat_minor": 5
}
