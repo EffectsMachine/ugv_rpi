{
 "cells": [
  {
   "cell_type": "markdown",
   "id": "93a033c1-c78f-47a1-837e-704f7f7bba77",
   "metadata": {},
   "source": [
    "# 主程序架构介绍\n",
    "\n",
    "## 文件结构和功能介绍\n",
    "\n",
    "- ugv_pt_rpi\n",
    "    - [文件夹] AccessPopup (用于网络连接相关功能)\n",
    "    - [文件夹] sounds    （用于存储音频文件，可以在这里配置语音包）\n",
    "    - [文件夹] static        （用于存储拍摄的照片）\n",
    "    - [文件夹] templates    （WEB 应用的相关资源）\n",
    "    - [文件夹] tutorial_cn    （中文版交互式教程）\n",
    "    - [文件夹] tutorial_en    （英文版交互式教程）\n",
    "    - [文件夹] videos    （用于存储录制的视频）\n",
    "    - app.py    （产品主程序，包括 web-socket 和 flask 相关功能）\n",
    "    - asound.conf    （声卡配置文件）\n",
    "    - audio_ctrl.py    （音频功能相关的库）\n",
    "    - autorun.sh    （配置产品主程序和 jupyterlab 开机自动运行的脚本）\n",
    "    - base_camera.py    （flask 实时视频的底层多线程采集的库，原项目为 flask-video-streaming）\n",
    "    - base_ctrl.py    （与下位机通信的库，通过串口与下位机进行通信）\n",
    "    - config.yaml    （配置文件，用于配置一些参数）\n",
    "    - requirements.txt    （python项目依赖库）\n",
    "    - robot_ctrl.py    （机器人动作、视觉处理相关的库）\n",
    "    - serial_simple_ctrl.py    （独立的程序，用于测试串口通信）\n",
    "    - setup.sh    （自动安装脚本）\n",
    "    - start_jupyter.sh    （开启 jupyterlab 服务器）"
   ]
  },
  {
   "cell_type": "markdown",
   "id": "5d517c2e-318d-49fd-9f9f-59442a051a92",
   "metadata": {},
   "source": [
    "## 安装脚本\n",
    "\n",
    "在项目文件夹中有一个名为 setup.sh 的文件，使用 shell 编写，可以帮助自动配置机器人产品的上位机，包括设置串口、设置摄像头、创建项目虚拟环境和安装依赖库等。这些步骤在我们出厂的SD卡的镜像中都是已经配置好的了。\n",
    "\n",
    "安装脚本使用方法，安装过程需要从网络下载并安装很多依赖库，对于网络环境比较特殊的地区我们推荐你使用直接从我们官网下载镜像文件的方法来安装产品。\n",
    "\n",
    "## 自动运行程序\n",
    "\n",
    "项目文件夹中的 autorun.sh 用于配置产品主程序（app.py）和 jupyterlab（start_jupyter.sh）的开机自动运行（以用户身份而非 root），同时生成 jupyterlab 的配置文件。"
   ]
  },
  {
   "cell_type": "markdown",
   "id": "7a787e10-7b78-4fe8-a97e-6f60922a1841",
   "metadata": {},
   "source": [
    "## app.py 介绍（v0.89）\n",
    "\n",
    "以下代码块仅用作展示，不可以运行"
   ]
  },
  {
   "cell_type": "markdown",
   "id": "92b9f1aa-d22f-4aa2-996f-8248627d45a5",
   "metadata": {},
   "source": [
    "导入 Flask 应用和 json 相关的库，用于构建 WEB 应用"
   ]
  },
  {
   "cell_type": "code",
   "execution_count": null,
   "id": "931b793a-6ed3-4905-86e1-6b803c98d4a7",
   "metadata": {},
   "outputs": [],
   "source": [
    "from importlib import import_module\n",
    "import os, socket, psutil\n",
    "import subprocess, re, netifaces\n",
    "from flask import Flask, render_template, Response, jsonify, request, send_from_directory, send_file\n",
    "from werkzeug.utils import secure_filename\n",
    "import json"
   ]
  },
  {
   "cell_type": "markdown",
   "id": "92154c65-9cb9-4568-94de-05426c555e01",
   "metadata": {},
   "source": [
    "导入 web-socket 相关的库"
   ]
  },
  {
   "cell_type": "code",
   "execution_count": null,
   "id": "8062eb94-4348-4011-b482-8c9731c5f5a8",
   "metadata": {},
   "outputs": [],
   "source": [
    "from flask_socketio import SocketIO, emit"
   ]
  },
  {
   "cell_type": "markdown",
   "id": "4f96b110-7d97-4786-8a26-ea234e91abe0",
   "metadata": {},
   "source": [
    "导入和机器人控制相关的库，包括视觉功能和动作控制等"
   ]
  },
  {
   "cell_type": "code",
   "execution_count": null,
   "id": "a335fbab-f349-4ece-9046-936d168467cc",
   "metadata": {},
   "outputs": [],
   "source": [
    "from robot_ctrl import Camera\n",
    "from robot_ctrl import RobotCtrlMiddleWare"
   ]
  },
  {
   "cell_type": "markdown",
   "id": "24539d7c-8ce7-4877-8708-5c98136bf9a5",
   "metadata": {},
   "source": [
    "导入其它库"
   ]
  },
  {
   "cell_type": "code",
   "execution_count": null,
   "id": "d68a4b0d-20e3-4db1-951e-0405ed00c0aa",
   "metadata": {},
   "outputs": [],
   "source": [
    "import time    # 时间函数库\n",
    "import logging    # 用于设置flask应用的输出信息\n",
    "import threading    # 多线程函数库\n",
    "\n",
    "import yaml    # 用于读取 .yaml 配置文件"
   ]
  },
  {
   "cell_type": "markdown",
   "id": "49e81a88-abad-4847-9a61-bcf97ca67328",
   "metadata": {},
   "source": [
    "打开 config.yaml 配置文件，获取配置文件中的参数"
   ]
  },
  {
   "cell_type": "code",
   "execution_count": null,
   "id": "d86ced97-3ad8-4bc7-b651-2f973ec6ef73",
   "metadata": {},
   "outputs": [],
   "source": [
    "curpath = os.path.realpath(__file__)\n",
    "thisPath = os.path.dirname(curpath)\n",
    "with open(thisPath + '/config.yaml', 'r') as yaml_file:\n",
    "    f = yaml.safe_load(yaml_file)\n",
    "\n",
    "robot_name  = f['base_config']['robot_name']\n",
    "sbc_version = f['base_config']['sbc_version']"
   ]
  },
  {
   "cell_type": "markdown",
   "id": "f706bc0b-918a-41e9-bfad-548f8420a826",
   "metadata": {},
   "source": [
    "实例化 Flask 应用并配置输出（关闭输出）"
   ]
  },
  {
   "cell_type": "code",
   "execution_count": null,
   "id": "b840ad16-a790-45df-a187-05937300173c",
   "metadata": {},
   "outputs": [],
   "source": [
    "app = Flask(__name__)\n",
    "log = logging.getLogger('werkzeug')\n",
    "log.disabled = True"
   ]
  },
  {
   "cell_type": "markdown",
   "id": "a11a4c77-8100-432f-b039-e1c69d53f9b0",
   "metadata": {},
   "source": [
    "实例化 web-socket功能（用于网页客户端与服务器通信），视频相关功能（实时视频、Opencv），机器人动作控制（运动，灯光，云台，获取底盘反馈等）"
   ]
  },
  {
   "cell_type": "code",
   "execution_count": null,
   "id": "d9fbdb4a-666a-4b65-9efe-e38cdd051388",
   "metadata": {},
   "outputs": [],
   "source": [
    "socketio = SocketIO(app)\n",
    "camera = Camera()\n",
    "robot = RobotCtrlMiddleWare()"
   ]
  },
  {
   "cell_type": "markdown",
   "id": "6b84ca67-dd4c-4e7d-b7d5-b4667755261d",
   "metadata": {},
   "source": [
    "网络相关的设置"
   ]
  },
  {
   "cell_type": "code",
   "execution_count": null,
   "id": "b86d0945-6590-47ef-b6ed-43d1ed18e49d",
   "metadata": {},
   "outputs": [],
   "source": [
    "net_interface = \"wlan0\" # 设置无线网卡，板载是wlan0，usb的是其它数字\n",
    "wifi_mode = \"None\"\n",
    "# 存储WIFI模式，这个变量会显示在OLED屏幕上\n",
    "eth0_ip = None # 网口的IP地址，会显示在OLED屏幕上\n",
    "wlan_ip = None # 无线网络（net_interface）的IP地址，会显示在OLED屏幕上"
   ]
  },
  {
   "cell_type": "markdown",
   "id": "5de2e662-f45f-4494-82d4-1e7f4a7d25b0",
   "metadata": {},
   "source": [
    "网页拖拽上传音频文件的存储路径"
   ]
  },
  {
   "cell_type": "code",
   "execution_count": null,
   "id": "ae67ef58-e022-4e5b-9c33-ab920d17fbcb",
   "metadata": {},
   "outputs": [],
   "source": [
    "UPLOAD_FOLDER = thisPath + '/sounds/others'"
   ]
  },
  {
   "cell_type": "markdown",
   "id": "029cef50-4a84-41ff-9291-94917504d797",
   "metadata": {},
   "source": [
    "用于存储上位机信息的一些变量（主程序运行时，这些变量会由其它函数更新）"
   ]
  },
  {
   "cell_type": "code",
   "execution_count": null,
   "id": "ef2158ac-f77b-4030-a22d-02bfff245e48",
   "metadata": {},
   "outputs": [],
   "source": [
    "pic_size = 0;\n",
    "vid_size = 0;\n",
    "cpu_read = 0;\n",
    "cpu_temp = 0;\n",
    "ram_read = 0;\n",
    "rssi_read= 0;"
   ]
  },
  {
   "cell_type": "markdown",
   "id": "893d8bdb-fb28-438b-b843-f1595698d2c1",
   "metadata": {},
   "source": [
    "可执行的指令与对应函数的字典，每个指令有一个对应的代号，存储在 config.yaml 文件中，这里使用字典来选择需要执行的指令，因为指令数量太多所以这里不能用一大堆 if else 来写，那样的话会严重影响可读性。"
   ]
  },
  {
   "cell_type": "code",
   "execution_count": null,
   "id": "4e309e00-f4d8-43fc-a880-a24f2cf293e5",
   "metadata": {},
   "outputs": [],
   "source": [
    "cmd_actions = {\n",
    "    f['code']['min_res']: lambda: camera.set_video_resolution(\"240P\"),\n",
    "    f['code']['mid_res']: lambda: camera.set_video_resolution(\"480P\"),\n",
    "    f['code']['max_res']: lambda: camera.set_video_resolution(\"960P\"),\n",
    "    f['code']['zoom_x1']: lambda: camera.scale_frame(1),\n",
    "    f['code']['zoom_x2']: lambda: camera.scale_frame(2),\n",
    "    f['code']['zoom_x4']: lambda: camera.scale_frame(4),\n",
    "    f['code']['pic_cap']: lambda: camera.capture_frame(thisPath + '/static/'),\n",
    "    f['code']['vid_sta']: lambda: camera.record_video(1, thisPath + '/videos/'),\n",
    "    f['code']['vid_end']: lambda: camera.record_video(0, thisPath + '/videos/'),\n",
    "    f['code']['cv_none']: lambda: camera.set_cv_mode(f['code']['cv_none']),\n",
    "    f['code']['cv_moti']: lambda: camera.set_cv_mode(f['code']['cv_moti']),\n",
    "    f['code']['cv_face']: lambda: camera.set_cv_mode(f['code']['cv_face']),\n",
    "    f['code']['cv_objs']: lambda: camera.set_cv_mode(f['code']['cv_objs']),\n",
    "    f['code']['cv_clor']: lambda: camera.set_cv_mode(f['code']['cv_clor']),\n",
    "    f['code']['cv_hand']: lambda: camera.set_cv_mode(f['code']['cv_hand']),\n",
    "    f['code']['cv_auto']: lambda: camera.set_cv_mode(f['code']['cv_auto']),\n",
    "    f['code']['mp_face']: lambda: camera.set_cv_mode(f['code']['mp_face']),\n",
    "    f['code']['mp_pose']: lambda: camera.set_cv_mode(f['code']['mp_pose']),\n",
    "    f['code']['re_none']: lambda: camera.set_detection_reaction(f['code']['re_none']),\n",
    "    f['code']['re_capt']: lambda: camera.set_detection_reaction(f['code']['re_capt']),\n",
    "    f['code']['re_reco']: lambda: camera.set_detection_reaction(f['code']['re_reco']),\n",
    "    f['code']['mc_lock']: lambda: camera.set_movtion_lock(f['code']['mc_lock']),\n",
    "    f['code']['mc_unlo']: lambda: camera.set_movtion_lock(f['code']['mc_unlo']),\n",
    "    f['code']['led_off']: robot.set_led_mode_off,\n",
    "    f['code']['led_aut']: robot.set_led_mode_auto,\n",
    "    f['code']['led_ton']: robot.set_led_mode_on,\n",
    "    f['code']['base_of']: robot.set_base_led_off,\n",
    "    f['code']['base_on']: robot.set_base_led_on,\n",
    "    f['code']['head_ct']: robot.head_led_ctrl,\n",
    "    f['code']['base_ct']: robot.base_led_ctrl,\n",
    "    f['code']['s_panid']: camera.set_pan_id,\n",
    "    f['code']['release']: camera.release_torque,\n",
    "    f['code']['set_mid']: camera.middle_set,\n",
    "    f['code']['s_tilid']: camera.set_tilt_id\n",
    "}"
   ]
  },
  {
   "cell_type": "markdown",
   "id": "054442ce-06e4-4df0-a653-0999d7cc6a88",
   "metadata": {},
   "source": [
    "网页加载时也需要问服务器要 config.yaml文件，用于网页上面的一些信息的配置，例如显示产品名称或者与服务端统一上面指令锁对应的代号，网页通过“/config”路由来发送请求，服务器在这个路由中给网页客户端返回它所需要的 config.yaml 文件。"
   ]
  },
  {
   "cell_type": "code",
   "execution_count": null,
   "id": "f75a8fdd-c10e-4842-81f0-b43c11d2a8ea",
   "metadata": {},
   "outputs": [],
   "source": [
    "@app.route('/config')\n",
    "def get_config():\n",
    "    with open(thisPath + '/config.yaml', 'r') as file:\n",
    "        yaml_content = file.read()\n",
    "    return yaml_content"
   ]
  },
  {
   "cell_type": "markdown",
   "id": "772af7e6-7bec-43cc-80ec-bcb25da58555",
   "metadata": {},
   "source": [
    "获取 WIFI 信号强度，参数为无线网卡的名称（一个设备上有可能会包含多个无线网卡）。"
   ]
  },
  {
   "cell_type": "code",
   "execution_count": null,
   "id": "ea6bf105-b872-4b9d-9466-0f799fc1e666",
   "metadata": {},
   "outputs": [],
   "source": [
    "def get_signal_strength(interface):\n",
    "    try:\n",
    "        output = subprocess.check_output([\"/sbin/iwconfig\", interface]).decode(\"utf-8\")\n",
    "        signal_strength = re.search(r\"Signal level=(-\\d+)\", output)\n",
    "        if signal_strength:\n",
    "            return int(signal_strength.group(1))\n",
    "        return 0\n",
    "    except FileNotFoundError:\n",
    "        print(\"iwconfig command not found. Please ensure it's installed and in your PATH.\")\n",
    "        return -1\n",
    "    except subprocess.CalledProcessError as e:\n",
    "        print(f\"Error executing iwconfig: {e}\")\n",
    "        return -1\n",
    "    except Exception as e:\n",
    "        print(f\"An error occurred: {e}\")\n",
    "        return -1"
   ]
  },
  {
   "cell_type": "markdown",
   "id": "b2779f56-f8d7-46b3-bfd2-daeb9199405f",
   "metadata": {},
   "source": [
    "获取 WIFI 模式，判断 WIFI 是 AP 还是 STA 模式。"
   ]
  },
  {
   "cell_type": "code",
   "execution_count": null,
   "id": "688a2d23-5ad4-484f-96e9-8bccd6d96157",
   "metadata": {},
   "outputs": [],
   "source": [
    "def get_wifi_mode():\n",
    "    global wifi_mode\n",
    "    try:\n",
    "        result = subprocess.check_output(['/sbin/iwconfig', 'wlan0'], encoding='utf-8')\n",
    "\n",
    "        if \"Mode:Master\" in result or \"Mode:AP\" in result:\n",
    "            wifi_mode = \"AP\"\n",
    "            return \"AP\"\n",
    "\n",
    "        if \"Mode:Managed\" in result:\n",
    "            wifi_mode = \"STA\"\n",
    "            return \"STA\"\n",
    "\n",
    "    except subprocess.CalledProcessError as e:\n",
    "        print(f\"Error checking Wi-Fi mode: {e}\")\n",
    "        return None\n",
    "\n",
    "    return None"
   ]
  },
  {
   "cell_type": "markdown",
   "id": "6a97bc62-b087-4b45-8f5a-25bbad3b9fb9",
   "metadata": {},
   "source": [
    "获取 IP 地址，需要的参数为网卡名称"
   ]
  },
  {
   "cell_type": "code",
   "execution_count": null,
   "id": "b42ddc18-e91c-45fd-a054-e1e734f13657",
   "metadata": {},
   "outputs": [],
   "source": [
    "def get_ip_address(interface):\n",
    "    try:\n",
    "        interface_info = netifaces.ifaddresses(interface)\n",
    "\n",
    "        ipv4_info = interface_info.get(netifaces.AF_INET, [{}])\n",
    "        return ipv4_info[0].get('addr')\n",
    "    except ValueError:\n",
    "        print(f\"Interface {interface} not found.\")\n",
    "        return None\n",
    "    except IndexError:\n",
    "        print(f\"No IPv4 address assigned to {interface}.\")\n",
    "        return None"
   ]
  },
  {
   "cell_type": "markdown",
   "id": "b6d092dc-5855-4211-81fa-229d363a55ce",
   "metadata": {},
   "source": [
    "获取 CPU 使用率，次函数会产生阻塞，阻塞时间为 cpu_percent() 的 interval 参数"
   ]
  },
  {
   "cell_type": "code",
   "execution_count": null,
   "id": "b6740ee1-3f88-4821-a9f1-8172da7cb7d8",
   "metadata": {},
   "outputs": [],
   "source": [
    "def get_cpu_usage():\n",
    "    return psutil.cpu_percent(interval=2)"
   ]
  },
  {
   "cell_type": "markdown",
   "id": "8b3cd3cc-6195-4f9a-8ba3-65a38b28ff90",
   "metadata": {},
   "source": [
    "获取 CPU 的温度"
   ]
  },
  {
   "cell_type": "code",
   "execution_count": null,
   "id": "f60b90ec-30a5-4184-877f-ad1cc9ab82ed",
   "metadata": {},
   "outputs": [],
   "source": [
    "def get_cpu_temperature():\n",
    "    try:\n",
    "        temperature_str = os.popen('vcgencmd measure_temp').readline()\n",
    "        temperature = float(temperature_str.replace(\"temp=\", \"\").replace(\"'C\\n\", \"\"))\n",
    "        return temperature\n",
    "    except Exception as e:\n",
    "        print(\"Error reading CPU temperature:\", str(e))\n",
    "        return None"
   ]
  },
  {
   "cell_type": "markdown",
   "id": "0c212f4c-9c9a-4496-8471-989822820745",
   "metadata": {},
   "source": [
    "获取运行内存使用率"
   ]
  },
  {
   "cell_type": "code",
   "execution_count": null,
   "id": "80d92bdf-3479-4b81-8769-16b073d0a5e0",
   "metadata": {},
   "outputs": [],
   "source": [
    "def get_memory_usage():\n",
    "    return psutil.virtual_memory().percent"
   ]
  },
  {
   "cell_type": "markdown",
   "id": "8d7ff014-7ebd-4817-9a30-217b6c1c63ea",
   "metadata": {},
   "source": [
    "这个函数里面集成了上面那些函数，用于获取各种信息后给相应的变量复制，方便程序的其它部分调用那些变量"
   ]
  },
  {
   "cell_type": "code",
   "execution_count": null,
   "id": "cfe126d0-2ba8-4213-b679-19e1339c9e1d",
   "metadata": {},
   "outputs": [],
   "source": [
    "def update_device_info():\n",
    "    global pic_size, vid_size, cpu_read, ram_read, rssi_read, cpu_temp\n",
    "    cpu_read = get_cpu_usage()\n",
    "    cpu_temp = get_cpu_temperature()\n",
    "    ram_read = get_memory_usage()\n",
    "    rssi_read= get_signal_strength(net_interface)"
   ]
  },
  {
   "cell_type": "markdown",
   "id": "c3e80cc3-e10b-4489-ba89-4a873d5d634a",
   "metadata": {},
   "source": [
    "用于循环获取各类反馈信息并合并，然后发送给 web 客户端，这行函数在主程序启动时（第一次客户端建立连接时）会由 threading 来生成一个单独的线程来执行，不会影响主程序的执行，这个函数会从 camera.get_status() 中获取底盘的信息和其它视觉功能相关的信息，反馈给 web 客户端一个合并好的 json，反馈信息路由为 “/ctrl”\n",
    "\n",
    "这个函数的运行频率为10Hz，但是有些信息的获取频率并不是10Hz，这个频率是 camera.get_status() 中信息的获取频率，其余的例如文件夹大小以及CPU内存占用率这些的获取频率会低得多，因为那些信息占用的资源比较多。"
   ]
  },
  {
   "cell_type": "code",
   "execution_count": null,
   "id": "147d167b-6ca7-43a2-ae2b-02e0a7261a7f",
   "metadata": {},
   "outputs": [],
   "source": [
    "def update_data_websocket():\n",
    "    while 1:\n",
    "        try:\n",
    "            fb_json = camera.get_status()\n",
    "        except:\n",
    "            continue\n",
    "        socket_data = {\n",
    "                    f['fb']['picture_size']:pic_size,\n",
    "                    f['fb']['video_size']:  vid_size,\n",
    "                    f['fb']['cpu_load']:    cpu_read,\n",
    "                    f['fb']['cpu_temp']:    cpu_temp,\n",
    "                    f['fb']['ram_usage']:   ram_read,\n",
    "                    f['fb']['wifi_rssi']:   rssi_read\n",
    "                    }\n",
    "        try:\n",
    "            socket_data.update(fb_json)\n",
    "            socketio.emit('update', socket_data, namespace='/ctrl')\n",
    "        except:\n",
    "            pass\n",
    "        time.sleep(0.1)"
   ]
  },
  {
   "cell_type": "markdown",
   "id": "a9d7625c-f938-4366-84ef-f0f134b025a5",
   "metadata": {},
   "source": [
    "后面所有 @app.route() 都是 Flask 应用的路由函数装饰器，路由用于区分客户端发来的请求的类型，不同类型的请求会使用不同的函数来处理。\n",
    "\n",
    "这个路由为主路由，当有客户端连接时（当有人访问 IP:5000 页面时），会随机播放 sounds/connected 文件夹内的一个音频文件，并且服务器会返回 WEB 应用的主控界面，主控界面的 html 文件为 index.html。"
   ]
  },
  {
   "cell_type": "code",
   "execution_count": null,
   "id": "9bfe9879-aea5-4a4d-8c03-b3bd58cebf9a",
   "metadata": {},
   "outputs": [],
   "source": [
    "@app.route('/')\n",
    "def index():\n",
    "    \"\"\"Video streaming home page.\"\"\"\n",
    "    robot.play_random_audio(\"connected\", False)\n",
    "    return render_template('index.html')"
   ]
  },
  {
   "cell_type": "markdown",
   "id": "3bd623a5-a03c-43b8-a408-c60ea29b17fd",
   "metadata": {},
   "source": [
    "用于给客户端发送各类文件的路由: css，js，照片，视频。"
   ]
  },
  {
   "cell_type": "code",
   "execution_count": null,
   "id": "c25fd6eb-2caa-4605-a4cc-f1975040a340",
   "metadata": {},
   "outputs": [],
   "source": [
    "@app.route('/<path:filename>')\n",
    "def serve_static(filename):\n",
    "    return send_from_directory('templates', filename)\n",
    "\n",
    "\n",
    "@app.route('/photo/<path:filename>')\n",
    "def serve_static_photo(filename):\n",
    "    return send_from_directory('templates', filename)\n",
    "\n",
    "\n",
    "@app.route('/video/<path:filename>')\n",
    "def serve_static_video(filename):\n",
    "    return send_from_directory('templates', filename)"
   ]
  },
  {
   "cell_type": "markdown",
   "id": "b5632799-92e7-4c11-a13e-86562e583b4c",
   "metadata": {},
   "source": [
    "用于打开设置页面的路由"
   ]
  },
  {
   "cell_type": "code",
   "execution_count": null,
   "id": "09b7ed2d-4e1e-491e-8e94-612da1806f2f",
   "metadata": {},
   "outputs": [],
   "source": [
    "@app.route('/settings/<path:filename>')\n",
    "def serve_static_settings(filename):\n",
    "    return send_from_directory('templates', filename)"
   ]
  },
  {
   "cell_type": "markdown",
   "id": "60fa714a-3c8e-4ddf-80a9-f753e70704f0",
   "metadata": {},
   "source": [
    "用于从设置页面返回到主页的路由"
   ]
  },
  {
   "cell_type": "code",
   "execution_count": null,
   "id": "5000a9a2-fd41-4ad0-abab-963bc07f559f",
   "metadata": {},
   "outputs": [],
   "source": [
    "@app.route('/index')\n",
    "def serve_static_home(filename):\n",
    "    return redirect(url_for('index'))"
   ]
  },
  {
   "cell_type": "markdown",
   "id": "259624c0-d591-4e58-b4d3-b9a7699f1445",
   "metadata": {},
   "source": [
    "用于获取实时视频画面的函数，来自于开源项目 falsk-video-streaming"
   ]
  },
  {
   "cell_type": "code",
   "execution_count": null,
   "id": "e04a09d6-d4f9-4500-a866-e21dec32b7ac",
   "metadata": {},
   "outputs": [],
   "source": [
    "def gen(cameraInput):\n",
    "    \"\"\"Video streaming generator function.\"\"\"\n",
    "    yield b'--frame\\r\\n'\n",
    "    while True:\n",
    "        frame = cameraInput.get_frame()\n",
    "        yield b'Content-Type: image/jpeg\\r\\n\\r\\n' + frame + b'\\r\\n--frame\\r\\n'"
   ]
  },
  {
   "cell_type": "markdown",
   "id": "5fa4773a-7f8e-4131-a1a1-59e38f5178bb",
   "metadata": {},
   "source": [
    "用于在网页上显示实时视频画面的路由"
   ]
  },
  {
   "cell_type": "code",
   "execution_count": null,
   "id": "d4d0b3fd-0c9b-4cba-801c-2385843ee98a",
   "metadata": {},
   "outputs": [],
   "source": [
    "@app.route('/video_feed')\n",
    "def video_feed():\n",
    "    \"\"\"Video streaming route. Put this in the src attribute of an img tag.\"\"\"\n",
    "    return Response(gen(camera),\n",
    "                    mimetype='multipart/x-mixed-replace; boundary=frame')"
   ]
  },
  {
   "cell_type": "markdown",
   "id": "f22ce5b6-42f7-4b2d-ac68-97a940dca380",
   "metadata": {},
   "source": [
    "用于获取照片文件夹内照片名称列表的路由"
   ]
  },
  {
   "cell_type": "code",
   "execution_count": null,
   "id": "2d0b21e6-2a05-40da-8ecc-bfd2a5681dd9",
   "metadata": {},
   "outputs": [],
   "source": [
    "@app.route('/get_photo_names')\n",
    "def get_photo_names():\n",
    "    photo_files = sorted(os.listdir(thisPath + '/static'), key=lambda x: os.path.getmtime(os.path.join(thisPath + '/static', x)), reverse=True)\n",
    "    return jsonify(photo_files)"
   ]
  },
  {
   "cell_type": "markdown",
   "id": "5a508b38-2866-4edf-ab5d-95b39ecf8653",
   "metadata": {},
   "source": [
    "用于给网页发送图片的路由"
   ]
  },
  {
   "cell_type": "code",
   "execution_count": null,
   "id": "78da5887-51cc-4c80-92e1-ea69df0d7647",
   "metadata": {},
   "outputs": [],
   "source": [
    "@app.route('/get_photo/<filename>')\n",
    "def get_photo(filename):\n",
    "    return send_from_directory(thisPath + '/static', filename)"
   ]
  },
  {
   "cell_type": "markdown",
   "id": "1fb31fbd-49a2-4fa2-a1f3-3dcd876fbef6",
   "metadata": {},
   "source": [
    "用于删除图片的路由"
   ]
  },
  {
   "cell_type": "code",
   "execution_count": null,
   "id": "d6abeb52-4aae-4c4f-b2b5-333146d4b290",
   "metadata": {},
   "outputs": [],
   "source": [
    "@app.route('/delete_photo', methods=['POST'])\n",
    "def delete_photo():\n",
    "    filename = request.form.get('filename')\n",
    "    try:\n",
    "        os.remove(os.path.join(thisPath + '/static', filename))\n",
    "        return jsonify(success=True)\n",
    "    except Exception as e:\n",
    "        print(e)\n",
    "        return jsonify(success=False)"
   ]
  },
  {
   "cell_type": "markdown",
   "id": "8a0272e7-5337-4718-a668-b5eba4b73c57",
   "metadata": {},
   "source": [
    "下面几个函数是类似的功能，只是用来操作视频的"
   ]
  },
  {
   "cell_type": "code",
   "execution_count": null,
   "id": "a09fe67e-7003-4d93-9323-14d2b0c5431c",
   "metadata": {},
   "outputs": [],
   "source": [
    "@app.route('/delete_video', methods=['POST'])\n",
    "def delete_video():\n",
    "    filename = request.form.get('filename')\n",
    "    try:\n",
    "        os.remove(os.path.join(thisPath + '/videos', filename))\n",
    "        return jsonify(success=True)\n",
    "    except Exception as e:\n",
    "        print(e)\n",
    "        return jsonify(success=False)\n",
    "\n",
    "\n",
    "@app.route('/get_video_names')\n",
    "def get_video_names():\n",
    "    video_files = sorted(\n",
    "        [filename for filename in os.listdir(thisPath + '/videos/') if filename.endswith('.mp4')],\n",
    "        key=lambda filename: os.path.getctime(os.path.join(thisPath + '/videos/', filename)),\n",
    "        reverse=True\n",
    "    )\n",
    "    return jsonify(video_files)\n",
    "\n",
    "\n",
    "@app.route('/videos/<path:filename>')\n",
    "def videos(filename):\n",
    "    return send_from_directory(thisPath + '/videos', filename)"
   ]
  },
  {
   "cell_type": "markdown",
   "id": "6cf8d83d-7499-496e-a89f-66c2693f4128",
   "metadata": {},
   "source": [
    "使用遍历内部每个文件的方法来获取某个文件夹的大小，会产生比较大的资源占用"
   ]
  },
  {
   "cell_type": "code",
   "execution_count": null,
   "id": "8c02cbad-47e7-4015-9077-49e0f7644396",
   "metadata": {},
   "outputs": [],
   "source": [
    "def get_folder_size(folder_path):\n",
    "    total_size = 0\n",
    "    for dirpath, dirnames, filenames in os.walk(folder_path):\n",
    "        for filename in filenames:\n",
    "            file_path = os.path.join(dirpath, filename)\n",
    "            total_size += os.path.getsize(file_path)\n",
    "    # Convert total_size to MB\n",
    "    size_in_mb = total_size / (1024 * 1024)\n",
    "    return round(size_in_mb,2)"
   ]
  },
  {
   "cell_type": "markdown",
   "id": "a8210e5d-6796-48d0-a532-6dd0086de957",
   "metadata": {},
   "source": [
    "web-socket 的路由，用于接收来自客户端的 json 指令，有些指令是高频的，并且需要尽量低的延迟，所以这里使用 web-socket 而不是使用 http，web-socket 是有连接的，一次连接多次通信；http 是无连接的，每次发送请求都需要先建立连接-通信-再销毁连接，http不适合高频低延迟的通信（http优点是简单）。"
   ]
  },
  {
   "cell_type": "code",
   "execution_count": null,
   "id": "d348d036-04e9-44ee-a623-ba757acd4408",
   "metadata": {},
   "outputs": [],
   "source": [
    "@socketio.on('json', namespace='/json')\n",
    "def handle_socket_json(json):\n",
    "    try:\n",
    "        robot.json_command_handler(json)\n",
    "    except Exception as e:\n",
    "        print(\"Error handling JSON data:\", e)\n",
    "        return"
   ]
  },
  {
   "cell_type": "markdown",
   "id": "17c894fb-41ae-4d91-b5d8-962d7a1dabb4",
   "metadata": {},
   "source": [
    "更新 OLED 上面显示的信息的函数，这个函数在主程序运行时由 threading 生成一个独立的线程运行，上面有个以10Hz频率向网页反馈信息的函数，那里面有一些变量是由这个函数来更新的，这里的信息对实时性要求不高，所以这个函数里面循环获取信息的频率更低。（这个函数里面不是用 time.sleep() 来做延迟的，是用 update_device_info() 里面的 get_cpu_usage() 来实现延迟的）"
   ]
  },
  {
   "cell_type": "code",
   "execution_count": null,
   "id": "603ad1c3-99d3-4c40-9764-cbdc2690c37e",
   "metadata": {},
   "outputs": [],
   "source": [
    "def oled_update():\n",
    "    global eth0_ip, wlan_ip\n",
    "    robot.base_oled(0, f\"E: No Ethernet\")\n",
    "    robot.base_oled(1, f\"W: NO {net_interface}\")\n",
    "    robot.base_oled(2, \"F/J:5000/8888\")\n",
    "    get_wifi_mode()\n",
    "    start_time = time.time()\n",
    "    last_folder_check_time = 0\n",
    "\n",
    "    while True:\n",
    "        current_time = time.time()\n",
    "\n",
    "        if current_time - last_folder_check_time > 600:\n",
    "            pic_size = get_folder_size(thisPath + '/static')\n",
    "            vid_size = get_folder_size(thisPath + '/videos')\n",
    "            last_folder_check_time = current_time\n",
    "        \n",
    "        update_device_info() # the interval of this loop is set in here\n",
    "        get_wifi_mode()\n",
    "\n",
    "        if get_ip_address('eth0') != eth0_ip:\n",
    "            eth0_ip = get_ip_address('eth0');\n",
    "            if eth0_ip:\n",
    "                robot.base_oled(0, f\"E:{eth0_ip}\")\n",
    "            else:\n",
    "                robot.base_oled(0, f\"E: No Ethernet\")\n",
    "\n",
    "        if get_ip_address(net_interface) != wlan_ip:\n",
    "            wlan_ip = get_ip_address(net_interface)\n",
    "            if wlan_ip:\n",
    "                robot.base_oled(1, f\"W:{wlan_ip}\")\n",
    "            else:\n",
    "                robot.base_oled(1, f\"W: NO {net_interface}\")\n",
    "\n",
    "        elapsed_time = current_time - start_time\n",
    "        hours = int(elapsed_time // 3600)\n",
    "        minutes = int((elapsed_time % 3600) // 60)\n",
    "        seconds = int(elapsed_time % 60)\n",
    "        robot.base_oled(3, f\"{wifi_mode} {hours:02d}:{minutes:02d}:{seconds:02d} {rssi_read}dBm\")"
   ]
  },
  {
   "cell_type": "markdown",
   "id": "ed626f9f-fe73-4bba-bed6-065d1ee67927",
   "metadata": {},
   "source": [
    "这个是用于处理客户端发来的命令行信息的路由"
   ]
  },
  {
   "cell_type": "code",
   "execution_count": null,
   "id": "f7705fa4-c4bf-4f76-9320-87628e1ee600",
   "metadata": {},
   "outputs": [],
   "source": [
    "@app.route('/send_command', methods=['POST'])\n",
    "def handle_command():\n",
    "    command = request.form['command']\n",
    "    print(\"Received command:\", command)\n",
    "    # camera.info_update(\"CMD:\" + command, (0,255,255), 0.36)\n",
    "    camera.cmd_process(command)\n",
    "    return jsonify({\"status\": \"success\", \"message\": \"Command received\"})"
   ]
  },
  {
   "cell_type": "markdown",
   "id": "b13c40e4-de7f-4fe2-b507-c9bdf866b391",
   "metadata": {},
   "source": [
    "用于获取保存在 sounds/other 文件夹内音频文件列表的路由"
   ]
  },
  {
   "cell_type": "code",
   "execution_count": null,
   "id": "f4140520-8f70-4e1a-b916-e6e906f1cfdd",
   "metadata": {},
   "outputs": [],
   "source": [
    "@app.route('/getAudioFiles', methods=['GET'])\n",
    "def get_audio_files():\n",
    "    files = [f for f in os.listdir(UPLOAD_FOLDER) if os.path.isfile(os.path.join(UPLOAD_FOLDER, f))]\n",
    "    return jsonify(files)"
   ]
  },
  {
   "cell_type": "markdown",
   "id": "acbd36fd-e375-457f-9ffb-10dfe9a7f889",
   "metadata": {},
   "source": [
    "用于实现网页端拖拽上传功能的路由，被上传的音频文件保存在 sounds/other 文件夹内"
   ]
  },
  {
   "cell_type": "code",
   "execution_count": null,
   "id": "8a21f685-85d3-4f79-9279-e8ca1931481c",
   "metadata": {},
   "outputs": [],
   "source": [
    "@app.route('/uploadAudio', methods=['POST'])\n",
    "def upload_audio():\n",
    "    if 'file' not in request.files:\n",
    "        return jsonify({'error': 'No file part'})\n",
    "    file = request.files['file']\n",
    "    if file.filename == '':\n",
    "        return jsonify({'error': 'No selected file'})\n",
    "    if file:\n",
    "        filename = secure_filename(file.filename)\n",
    "        file.save(os.path.join(UPLOAD_FOLDER, filename))\n",
    "        return jsonify({'success': 'File uploaded successfully'})"
   ]
  },
  {
   "cell_type": "markdown",
   "id": "3f9a6887-231b-47ea-82be-046b89b27fd4",
   "metadata": {},
   "source": [
    "用于播放 sounds/other 文件夹内音频的路由"
   ]
  },
  {
   "cell_type": "code",
   "execution_count": null,
   "id": "74d0a5b4-e4db-41e8-8974-7aecb62003f2",
   "metadata": {},
   "outputs": [],
   "source": [
    "@app.route('/playAudio', methods=['POST'])\n",
    "def play_audio():\n",
    "    audio_file = request.form['audio_file']\n",
    "    print(thisPath + '/sounds/others/' + audio_file)\n",
    "    robot.audio_play(thisPath + '/sounds/others/' + audio_file)\n",
    "    return jsonify({'success': 'Audio is playing'})"
   ]
  },
  {
   "cell_type": "markdown",
   "id": "47a48422-c5af-4aba-abe9-06c63103aff2",
   "metadata": {},
   "source": [
    "用于停止播放的路由"
   ]
  },
  {
   "cell_type": "code",
   "execution_count": null,
   "id": "b41997bf-e7df-4c91-b119-280dc6a6bffe",
   "metadata": {},
   "outputs": [],
   "source": [
    "@app.route('/stop_audio', methods=['POST'])\n",
    "def audio_stop():\n",
    "    robot.audio_stop()\n",
    "    return jsonify({'success': 'Audio stop'})"
   ]
  },
  {
   "cell_type": "markdown",
   "id": "87f9386d-65be-471d-91c3-a3274249416f",
   "metadata": {},
   "source": [
    "这个函数用于开机自动执行一些命令行指令\n",
    "在主程序启动时会自动执行该函数\n",
    "可以随意增加这些指令的数量\n",
    "- base -c {\"T\":142,\"cmd\":50} : 用于给底盘发送设置反馈时间间隔的指令，底盘默认循环中没有延迟，给50参数代表格外增加50ms的延迟，有助于提升上位机效率（上位机解码下位机的串口信息也算占用资源）\n",
    "- base -c {\"T\":131,\"cmd\":1} ：开启底盘流反馈，这样反馈信息就不是一问一答的了，底盘可以自动连续发送反馈信息（虽然 ROS Driver 默认也是这个模式，但是还是写在这里了）\n",
    "- base -c {\"T\":143,\"cmd\":0} ：关闭回音，这样发给底盘信息时，底盘不会反馈你发送的原信息（因为没必要，还会占用上位机的串口解码资源，尤其是用高频指令控制底盘时）\n",
    "- base -c {\"T\":4,\"cmd\":2} ：用于设置底盘的外设类型，0 没有外设，1 机械臂， 2 云台\n",
    "- base -c {\"T\":300,\"mode\":0,\"mac\":\"EF:EF:EF:EF:EF:EF\"} ：底盘不会被 ESP-NOW 广播信号控制，只能被 EF:EF:EF:EF:EF:EF 这个 MAC 地址发来的ESP-NOW指令控制，你可以随意更改这个 MAC 地址（因为有上位机的程序成功运行了所以就不需要被 ESP-NOW 广播控制了）\n",
    "- send -a -b ：将广播地址添加到下位机的 ESP-NOW peer 中，方便后续使用设备间通信功能。"
   ]
  },
  {
   "cell_type": "code",
   "execution_count": null,
   "id": "94f3ccd0-b771-46df-9139-d948a58d2ce5",
   "metadata": {},
   "outputs": [],
   "source": [
    "def cmd_on_boot():\n",
    "    cmd_list = [\n",
    "        'base -c {\"T\":142,\"cmd\":50}',   # set feedback interval\n",
    "        'base -c {\"T\":131,\"cmd\":1}',    # serial feedback flow on\n",
    "        'base -c {\"T\":143,\"cmd\":0}',    # serial echo off\n",
    "        'base -c {\"T\":4,\"cmd\":2}',      # select the module - 0:None 1:RoArm-M2-S 2:Gimbal\n",
    "        'base -c {\"T\":300,\"mode\":0,\"mac\":\"EF:EF:EF:EF:EF:EF\"}',  # the base won't be ctrl by esp-now broadcast cmd, but it can still recv broadcast megs.\n",
    "        'send -a -b'    # add broadcast mac addr to peer\n",
    "    ]\n",
    "    for i in range(0, len(cmd_list)):\n",
    "        camera.cmd_process(cmd_list[i])"
   ]
  },
  {
   "cell_type": "markdown",
   "id": "4d86b129-c9bb-4b37-a821-5f1d8ef15c03",
   "metadata": {},
   "source": [
    "主程序运行时会执行的内容"
   ]
  },
  {
   "cell_type": "code",
   "execution_count": null,
   "id": "c29c3bc5-ba62-485b-9eef-1089f6e59fdf",
   "metadata": {},
   "outputs": [],
   "source": [
    "if __name__ == '__main__':\n",
    "    # 随机播放一个 sounds/robot_started 文件夹内音频文件\n",
    "    robot.play_random_audio(\"robot_started\", False)\n",
    "    \n",
    "    # LED 灯亮起\n",
    "    robot.set_led_mode_on()\n",
    "    \n",
    "    # 为 update_data_websocket() 创建一个单独的线程\n",
    "    date_update_thread = threading.Thread(target=update_data_websocket, daemon=True)\n",
    "    date_update_thread.start()\n",
    "    \n",
    "    # 为 update_data_websocket() 创建一个单独的线程\n",
    "    oled_update_thread = threading.Thread(target=oled_update, daemon=True)\n",
    "    oled_update_thread.start()\n",
    "    \n",
    "    # 获取照片文件夹大小         \n",
    "    pic_size = get_folder_size(thisPath + '/static')\n",
    "    \n",
    "    # 获取视频文件夹大小   \n",
    "    vid_size = get_folder_size(thisPath + '/videos')\n",
    "    \n",
    "    # LED 灯关闭\n",
    "    robot.set_led_mode_off()\n",
    "    \n",
    "    # 开机自动运行的命令行指令\n",
    "    cmd_on_boot()\n",
    "    \n",
    "    # 开启 flask 应用服务器\n",
    "    socketio.run(app, host='0.0.0.0', port=5000, allow_unsafe_werkzeug=True)"
   ]
  }
 ],
 "metadata": {
  "kernelspec": {
   "display_name": "Python 3 (ipykernel)",
   "language": "python",
   "name": "python3"
  },
  "language_info": {
   "codemirror_mode": {
    "name": "ipython",
    "version": 3
   },
   "file_extension": ".py",
   "mimetype": "text/x-python",
   "name": "python",
   "nbconvert_exporter": "python",
   "pygments_lexer": "ipython3",
   "version": "3.11.2"
  }
 },
 "nbformat": 4,
 "nbformat_minor": 5
}
