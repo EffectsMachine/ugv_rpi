{
 "cells": [
  {
   "cell_type": "markdown",
   "id": "93a033c1-c78f-47a1-837e-704f7f7bba77",
   "metadata": {},
   "source": [
    "# Introduction to Main Program Architecture\n",
    "\n",
    "## File Structure and Functionality\n",
    "\n",
    "- ugv_pt_rpi\n",
    "    - [Folder] AccessPopup (Used for network connection-related functions)\n",
    "    - [Folder] sounds (Used to store audio files, where you can configure voice packages)\n",
    "    - [Folder] static (Used to store captured photos)\n",
    "    - [Folder] templates (Related resources for the web application)\n",
    "    - [Folder] tutorial_cn (Chinese version of interactive tutorials)\n",
    "    - [Folder] tutorial_en (English version of interactive tutorials)\n",
    "    - [Folder] videos (Used to store recorded videos)\n",
    "    - app.py (Main program of the product, including web-socket and Flask-related functionalities)\n",
    "    - asound.conf (Sound card configuration file)\n",
    "    - audio_ctrl.py (Library related to audio functionalities)\n",
    "    - autorun.sh (Script to configure automatic startup of the main program and JupyterLab)\n",
    "    - base_camera.py (Library for flask real-time video streaming with underlying multithreaded capture, original project is flask-video-streaming)\n",
    "    - base_ctrl.py (Library for communication with the lower computer, communicates with the lower computer via serial port)\n",
    "    - config.yaml (Configuration file used to configure some parameters)\n",
    "    - requirements.txt (Python project dependencies)\n",
    "    - robot_ctrl.py (Library for robot actions and visual processing)\n",
    "    - serial_simple_ctrl.py (Standalone program used for testing serial communication)\n",
    "    - setup.sh (Automatic installation script)\n",
    "    - start_jupyter.sh (Script to start the JupyterLab server)he JupyterLab server)"
   ]
  },
  {
   "cell_type": "markdown",
   "id": "5d517c2e-318d-49fd-9f9f-59442a051a92",
   "metadata": {},
   "source": [
    "## Installation Script\n",
    "\n",
    "In the project folder, there is a file named setup.sh, written in shell script, which helps automate the configuration of the upper computer for the robot product. This includes setting up the serial port, configuring the camera, creating a project virtual environment, and installing dependencies. These steps are already configured in the SD card image we provide.\n",
    "\n",
    "Usage of the installation script: The installation process involves downloading and installing many dependencies from the internet. For areas with special network environments, we recommend downloading the image file directly from our official website to install the product.\n",
    "\n",
    "## Automatic Program Execution\n",
    "\n",
    "The autorun.sh script in the project folder is used to configure the automatic startup (as a user, not root) of the main program (app.py) and JupyterLab (start_jupyter.sh), and generates the configuration file for JupyterLab.terLab."
   ]
  },
  {
   "cell_type": "markdown",
   "id": "7a787e10-7b78-4fe8-a97e-6f60922a1841",
   "metadata": {},
   "source": [
    "## app.py 介绍（v0.89）\n",
    "\n",
    "The following code block is for demonstration purposes only and cannot be executed. "
   ]
  },
  {
   "cell_type": "markdown",
   "id": "92b9f1aa-d22f-4aa2-996f-8248627d45a5",
   "metadata": {},
   "source": [
    "Import the Flask application and libraries related to JSON for building a web application."
   ]
  },
  {
   "cell_type": "code",
   "execution_count": null,
   "id": "931b793a-6ed3-4905-86e1-6b803c98d4a7",
   "metadata": {},
   "outputs": [],
   "source": [
    "from importlib import import_module\n",
    "import os, socket, psutil\n",
    "import subprocess, re, netifaces\n",
    "from flask import Flask, render_template, Response, jsonify, request, send_from_directory, send_file\n",
    "from werkzeug.utils import secure_filename\n",
    "import json"
   ]
  },
  {
   "cell_type": "markdown",
   "id": "92154c65-9cb9-4568-94de-05426c555e01",
   "metadata": {},
   "source": [
    "Import libraries related to web-socket."
   ]
  },
  {
   "cell_type": "code",
   "execution_count": null,
   "id": "8062eb94-4348-4011-b482-8c9731c5f5a8",
   "metadata": {},
   "outputs": [],
   "source": [
    "from flask_socketio import SocketIO, emit"
   ]
  },
  {
   "cell_type": "markdown",
   "id": "4f96b110-7d97-4786-8a26-ea234e91abe0",
   "metadata": {},
   "source": [
    "Import libraries related to robot control, including visual functions and action control."
   ]
  },
  {
   "cell_type": "code",
   "execution_count": null,
   "id": "a335fbab-f349-4ece-9046-936d168467cc",
   "metadata": {},
   "outputs": [],
   "source": [
    "from robot_ctrl import Camera\n",
    "from robot_ctrl import RobotCtrlMiddleWare"
   ]
  },
  {
   "cell_type": "markdown",
   "id": "24539d7c-8ce7-4877-8708-5c98136bf9a5",
   "metadata": {},
   "source": [
    "Import other libraries."
   ]
  },
  {
   "cell_type": "code",
   "execution_count": null,
   "id": "d68a4b0d-20e3-4db1-951e-0405ed00c0aa",
   "metadata": {},
   "outputs": [],
   "source": [
    "import time    # Time function library\n",
    "import logging    # Used to set output information for Flask application\n",
    "import threading    # Threading function library\n",
    "\n",
    "import yaml    # Used to read .yaml configuration files"
   ]
  },
  {
   "cell_type": "markdown",
   "id": "49e81a88-abad-4847-9a61-bcf97ca67328",
   "metadata": {},
   "source": [
    "Open the config.yaml configuration file to retrieve parameters from the configuration file."
   ]
  },
  {
   "cell_type": "code",
   "execution_count": null,
   "id": "d86ced97-3ad8-4bc7-b651-2f973ec6ef73",
   "metadata": {},
   "outputs": [],
   "source": [
    "curpath = os.path.realpath(__file__)\n",
    "thisPath = os.path.dirname(curpath)\n",
    "with open(thisPath + '/config.yaml', 'r') as yaml_file:\n",
    "    f = yaml.safe_load(yaml_file)\n",
    "\n",
    "robot_name  = f['base_config']['robot_name']\n",
    "sbc_version = f['base_config']['sbc_version']"
   ]
  },
  {
   "cell_type": "markdown",
   "id": "f706bc0b-918a-41e9-bfad-548f8420a826",
   "metadata": {},
   "source": [
    "Instantiate the Flask application and configure output (turn off debug output)."
   ]
  },
  {
   "cell_type": "code",
   "execution_count": null,
   "id": "b840ad16-a790-45df-a187-05937300173c",
   "metadata": {},
   "outputs": [],
   "source": [
    "app = Flask(__name__)\n",
    "log = logging.getLogger('werkzeug')\n",
    "log.disabled = True"
   ]
  },
  {
   "cell_type": "markdown",
   "id": "a11a4c77-8100-432f-b039-e1c69d53f9b0",
   "metadata": {},
   "source": [
    "Instantiate WebSocket functionality (for communication between the web client and the server), video-related functionality (real-time video, OpenCV), and robot action control (movement, lighting, gimbal control, obtaining chassis feedback, etc.)."
   ]
  },
  {
   "cell_type": "code",
   "execution_count": null,
   "id": "d9fbdb4a-666a-4b65-9efe-e38cdd051388",
   "metadata": {},
   "outputs": [],
   "source": [
    "socketio = SocketIO(app)\n",
    "camera = Camera()\n",
    "robot = RobotCtrlMiddleWare()"
   ]
  },
  {
   "cell_type": "markdown",
   "id": "6b84ca67-dd4c-4e7d-b7d5-b4667755261d",
   "metadata": {},
   "source": [
    "\n",
    "Network-related settings"
   ]
  },
  {
   "cell_type": "code",
   "execution_count": null,
   "id": "b86d0945-6590-47ef-b6ed-43d1ed18e49d",
   "metadata": {},
   "outputs": [],
   "source": [
    "net_interface = \"wlan0\"  # Set wireless network interface, onboard is wlan0, USB is other numbers\n",
    "wifi_mode = \"None\"\n",
    "# Store WIFI mode, this variable will be displayed on the OLED screen\n",
    "eth0_ip = None  # IP address of the Ethernet port, will be displayed on the OLED screen\n",
    "wlan_ip = None  # IP address of the wireless network (net_interface), will be displayed on the OLED screen"
   ]
  },
  {
   "cell_type": "markdown",
   "id": "5de2e662-f45f-4494-82d4-1e7f4a7d25b0",
   "metadata": {},
   "source": [
    "Storage path for audio files uploaded via drag-and-drop on the webpage."
   ]
  },
  {
   "cell_type": "code",
   "execution_count": null,
   "id": "ae67ef58-e022-4e5b-9c33-ab920d17fbcb",
   "metadata": {},
   "outputs": [],
   "source": [
    "UPLOAD_FOLDER = thisPath + '/sounds/others'"
   ]
  },
  {
   "cell_type": "markdown",
   "id": "029cef50-4a84-41ff-9291-94917504d797",
   "metadata": {},
   "source": [
    "Variables used to store information from the upper computer (these variables will be updated by other functions during the main program execution)."
   ]
  },
  {
   "cell_type": "code",
   "execution_count": null,
   "id": "ef2158ac-f77b-4030-a22d-02bfff245e48",
   "metadata": {},
   "outputs": [],
   "source": [
    "pic_size = 0;\n",
    "vid_size = 0;\n",
    "cpu_read = 0;\n",
    "cpu_temp = 0;\n",
    "ram_read = 0;\n",
    "rssi_read= 0;"
   ]
  },
  {
   "cell_type": "markdown",
   "id": "893d8bdb-fb28-438b-b843-f1595698d2c1",
   "metadata": {},
   "source": [
    "A dictionary containing executable commands and their corresponding functions. Each command has a unique code stored in the config.yaml file. Here, we use a dictionary to select the command to be executed because there are too many commands to use a series of if-else statements, which would severely impact readability.\r\n",
    "\r\n",
    "\r\n"
   ]
  },
  {
   "cell_type": "code",
   "execution_count": null,
   "id": "4e309e00-f4d8-43fc-a880-a24f2cf293e5",
   "metadata": {},
   "outputs": [],
   "source": [
    "cmd_actions = {\n",
    "    f['code']['min_res']: lambda: camera.set_video_resolution(\"240P\"),\n",
    "    f['code']['mid_res']: lambda: camera.set_video_resolution(\"480P\"),\n",
    "    f['code']['max_res']: lambda: camera.set_video_resolution(\"960P\"),\n",
    "    f['code']['zoom_x1']: lambda: camera.scale_frame(1),\n",
    "    f['code']['zoom_x2']: lambda: camera.scale_frame(2),\n",
    "    f['code']['zoom_x4']: lambda: camera.scale_frame(4),\n",
    "    f['code']['pic_cap']: lambda: camera.capture_frame(thisPath + '/static/'),\n",
    "    f['code']['vid_sta']: lambda: camera.record_video(1, thisPath + '/videos/'),\n",
    "    f['code']['vid_end']: lambda: camera.record_video(0, thisPath + '/videos/'),\n",
    "    f['code']['cv_none']: lambda: camera.set_cv_mode(f['code']['cv_none']),\n",
    "    f['code']['cv_moti']: lambda: camera.set_cv_mode(f['code']['cv_moti']),\n",
    "    f['code']['cv_face']: lambda: camera.set_cv_mode(f['code']['cv_face']),\n",
    "    f['code']['cv_objs']: lambda: camera.set_cv_mode(f['code']['cv_objs']),\n",
    "    f['code']['cv_clor']: lambda: camera.set_cv_mode(f['code']['cv_clor']),\n",
    "    f['code']['cv_hand']: lambda: camera.set_cv_mode(f['code']['cv_hand']),\n",
    "    f['code']['cv_auto']: lambda: camera.set_cv_mode(f['code']['cv_auto']),\n",
    "    f['code']['mp_face']: lambda: camera.set_cv_mode(f['code']['mp_face']),\n",
    "    f['code']['mp_pose']: lambda: camera.set_cv_mode(f['code']['mp_pose']),\n",
    "    f['code']['re_none']: lambda: camera.set_detection_reaction(f['code']['re_none']),\n",
    "    f['code']['re_capt']: lambda: camera.set_detection_reaction(f['code']['re_capt']),\n",
    "    f['code']['re_reco']: lambda: camera.set_detection_reaction(f['code']['re_reco']),\n",
    "    f['code']['mc_lock']: lambda: camera.set_movtion_lock(f['code']['mc_lock']),\n",
    "    f['code']['mc_unlo']: lambda: camera.set_movtion_lock(f['code']['mc_unlo']),\n",
    "    f['code']['led_off']: robot.set_led_mode_off,\n",
    "    f['code']['led_aut']: robot.set_led_mode_auto,\n",
    "    f['code']['led_ton']: robot.set_led_mode_on,\n",
    "    f['code']['base_of']: robot.set_base_led_off,\n",
    "    f['code']['base_on']: robot.set_base_led_on,\n",
    "    f['code']['head_ct']: robot.head_led_ctrl,\n",
    "    f['code']['base_ct']: robot.base_led_ctrl,\n",
    "    f['code']['s_panid']: camera.set_pan_id,\n",
    "    f['code']['release']: camera.release_torque,\n",
    "    f['code']['set_mid']: camera.middle_set,\n",
    "    f['code']['s_tilid']: camera.set_tilt_id\n",
    "}"
   ]
  },
  {
   "cell_type": "markdown",
   "id": "054442ce-06e4-4df0-a653-0999d7cc6a88",
   "metadata": {},
   "source": [
    "\n",
    "When the webpage loads, it also needs to request the config.yaml file from the server for configuring some information on the webpage, such as displaying the product name or unifying the codes corresponding to the instructions with the server. The webpage sends a request through the \"/config\" route, and the server returns the config.yaml file that the webpage client needs on this route."
   ]
  },
  {
   "cell_type": "code",
   "execution_count": null,
   "id": "f75a8fdd-c10e-4842-81f0-b43c11d2a8ea",
   "metadata": {},
   "outputs": [],
   "source": [
    "@app.route('/config')\n",
    "def get_config():\n",
    "    with open(thisPath + '/config.yaml', 'r') as file:\n",
    "        yaml_content = file.read()\n",
    "    return yaml_content"
   ]
  },
  {
   "cell_type": "markdown",
   "id": "772af7e6-7bec-43cc-80ec-bcb25da58555",
   "metadata": {},
   "source": [
    "Obtaining the WIFI signal strength, with the parameter being the name of the wireless network interface (a device may contain multiple wireless network interfaces)."
   ]
  },
  {
   "cell_type": "code",
   "execution_count": null,
   "id": "ea6bf105-b872-4b9d-9466-0f799fc1e666",
   "metadata": {},
   "outputs": [],
   "source": [
    "def get_signal_strength(interface):\n",
    "    try:\n",
    "        output = subprocess.check_output([\"/sbin/iwconfig\", interface]).decode(\"utf-8\")\n",
    "        signal_strength = re.search(r\"Signal level=(-\\d+)\", output)\n",
    "        if signal_strength:\n",
    "            return int(signal_strength.group(1))\n",
    "        return 0\n",
    "    except FileNotFoundError:\n",
    "        print(\"iwconfig command not found. Please ensure it's installed and in your PATH.\")\n",
    "        return -1\n",
    "    except subprocess.CalledProcessError as e:\n",
    "        print(f\"Error executing iwconfig: {e}\")\n",
    "        return -1\n",
    "    except Exception as e:\n",
    "        print(f\"An error occurred: {e}\")\n",
    "        return -1"
   ]
  },
  {
   "cell_type": "markdown",
   "id": "b2779f56-f8d7-46b3-bfd2-daeb9199405f",
   "metadata": {},
   "source": [
    "Obtaining the WIFI mode, determining whether WIFI is in AP (Access Point) or STA (Station) mode."
   ]
  },
  {
   "cell_type": "code",
   "execution_count": null,
   "id": "688a2d23-5ad4-484f-96e9-8bccd6d96157",
   "metadata": {},
   "outputs": [],
   "source": [
    "def get_wifi_mode():\n",
    "    global wifi_mode\n",
    "    try:\n",
    "        result = subprocess.check_output(['/sbin/iwconfig', 'wlan0'], encoding='utf-8')\n",
    "\n",
    "        if \"Mode:Master\" in result or \"Mode:AP\" in result:\n",
    "            wifi_mode = \"AP\"\n",
    "            return \"AP\"\n",
    "\n",
    "        if \"Mode:Managed\" in result:\n",
    "            wifi_mode = \"STA\"\n",
    "            return \"STA\"\n",
    "\n",
    "    except subprocess.CalledProcessError as e:\n",
    "        print(f\"Error checking Wi-Fi mode: {e}\")\n",
    "        return None\n",
    "\n",
    "    return None"
   ]
  },
  {
   "cell_type": "markdown",
   "id": "6a97bc62-b087-4b45-8f5a-25bbad3b9fb9",
   "metadata": {},
   "source": [
    "Obtaining the IP address, with the required parameter being the network interface name.\r\n",
    "\r\n",
    "\r\n"
   ]
  },
  {
   "cell_type": "code",
   "execution_count": null,
   "id": "b42ddc18-e91c-45fd-a054-e1e734f13657",
   "metadata": {},
   "outputs": [],
   "source": [
    "def get_ip_address(interface):\n",
    "    try:\n",
    "        interface_info = netifaces.ifaddresses(interface)\n",
    "\n",
    "        ipv4_info = interface_info.get(netifaces.AF_INET, [{}])\n",
    "        return ipv4_info[0].get('addr')\n",
    "    except ValueError:\n",
    "        print(f\"Interface {interface} not found.\")\n",
    "        return None\n",
    "    except IndexError:\n",
    "        print(f\"No IPv4 address assigned to {interface}.\")\n",
    "        return None"
   ]
  },
  {
   "cell_type": "markdown",
   "id": "b6d092dc-5855-4211-81fa-229d363a55ce",
   "metadata": {},
   "source": [
    "Obtaining CPU usage percentage. This function will block, with the blocking time being the interval parameter of cpu_percent()."
   ]
  },
  {
   "cell_type": "code",
   "execution_count": null,
   "id": "b6740ee1-3f88-4821-a9f1-8172da7cb7d8",
   "metadata": {},
   "outputs": [],
   "source": [
    "def get_cpu_usage():\n",
    "    return psutil.cpu_percent(interval=2)"
   ]
  },
  {
   "cell_type": "markdown",
   "id": "8b3cd3cc-6195-4f9a-8ba3-65a38b28ff90",
   "metadata": {},
   "source": [
    "Obtaining CPU temperature."
   ]
  },
  {
   "cell_type": "code",
   "execution_count": null,
   "id": "f60b90ec-30a5-4184-877f-ad1cc9ab82ed",
   "metadata": {},
   "outputs": [],
   "source": [
    "def get_cpu_temperature():\n",
    "    try:\n",
    "        temperature_str = os.popen('vcgencmd measure_temp').readline()\n",
    "        temperature = float(temperature_str.replace(\"temp=\", \"\").replace(\"'C\\n\", \"\"))\n",
    "        return temperature\n",
    "    except Exception as e:\n",
    "        print(\"Error reading CPU temperature:\", str(e))\n",
    "        return None"
   ]
  },
  {
   "cell_type": "markdown",
   "id": "0c212f4c-9c9a-4496-8471-989822820745",
   "metadata": {},
   "source": [
    "Obtaining the usage percentage of the running memory (RAM)."
   ]
  },
  {
   "cell_type": "code",
   "execution_count": null,
   "id": "80d92bdf-3479-4b81-8769-16b073d0a5e0",
   "metadata": {},
   "outputs": [],
   "source": [
    "def get_memory_usage():\n",
    "    return psutil.virtual_memory().percent"
   ]
  },
  {
   "cell_type": "markdown",
   "id": "8d7ff014-7ebd-4817-9a30-217b6c1c63ea",
   "metadata": {},
   "source": [
    "This function integrates the above functions to obtain various information and assign them to corresponding variables, making it convenient for other parts of the program to access those variables."
   ]
  },
  {
   "cell_type": "code",
   "execution_count": null,
   "id": "cfe126d0-2ba8-4213-b679-19e1339c9e1d",
   "metadata": {},
   "outputs": [],
   "source": [
    "def update_device_info():\n",
    "    global pic_size, vid_size, cpu_read, ram_read, rssi_read, cpu_temp\n",
    "    cpu_read = get_cpu_usage()\n",
    "    cpu_temp = get_cpu_temperature()\n",
    "    ram_read = get_memory_usage()\n",
    "    rssi_read= get_signal_strength(net_interface)"
   ]
  },
  {
   "cell_type": "markdown",
   "id": "c3e80cc3-e10b-4489-ba89-4a873d5d634a",
   "metadata": {},
   "source": [
    "This function is used to continuously obtain various feedback information, merge them, and then send them to the web client. It is executed in a separate thread generated by threading when the main program is started (when the client first establishes a connection). It will not affect the execution of the main program. This function retrieves information from camera.get_status() to obtain information about the chassis and other visual function-related information. It returns a merged JSON to the web client on the \"/ctrl\" route.\r\n",
    "\r\n",
    "The frequency of this function is 10Hz, but the frequency of obtaining some information is not 10Hz. This frequency is the frequency of obtaining information in camera.get_status(). The frequency of obtaining other information such as folder size and CPU memory usage is much lower because those pieces of information consume more resources."
   ]
  },
  {
   "cell_type": "code",
   "execution_count": null,
   "id": "147d167b-6ca7-43a2-ae2b-02e0a7261a7f",
   "metadata": {},
   "outputs": [],
   "source": [
    "def update_data_websocket():\n",
    "    while 1:\n",
    "        try:\n",
    "            fb_json = camera.get_status()\n",
    "        except:\n",
    "            continue\n",
    "        socket_data = {\n",
    "                    f['fb']['picture_size']:pic_size,\n",
    "                    f['fb']['video_size']:  vid_size,\n",
    "                    f['fb']['cpu_load']:    cpu_read,\n",
    "                    f['fb']['cpu_temp']:    cpu_temp,\n",
    "                    f['fb']['ram_usage']:   ram_read,\n",
    "                    f['fb']['wifi_rssi']:   rssi_read\n",
    "                    }\n",
    "        try:\n",
    "            socket_data.update(fb_json)\n",
    "            socketio.emit('update', socket_data, namespace='/ctrl')\n",
    "        except:\n",
    "            pass\n",
    "        time.sleep(0.1)"
   ]
  },
  {
   "cell_type": "markdown",
   "id": "a9d7625c-f938-4366-84ef-f0f134b025a5",
   "metadata": {},
   "source": [
    "All the @app.route() decorators below are Flask application route function decorators. Routes are used to distinguish the types of requests sent by the client, and different functions are used to handle different types of requests.\r\n",
    "\r\n",
    "This route is the main route. When a client connects (when someone accesses the IP:5000 page), a random audio file from the sounds/connected folder will be played, and the server will return the main control interface of the WEB application. The HTML file for the main control interface is index.html."
   ]
  },
  {
   "cell_type": "code",
   "execution_count": null,
   "id": "9bfe9879-aea5-4a4d-8c03-b3bd58cebf9a",
   "metadata": {},
   "outputs": [],
   "source": [
    "@app.route('/')\n",
    "def index():\n",
    "    \"\"\"Video streaming home page.\"\"\"\n",
    "    robot.play_random_audio(\"connected\", False)\n",
    "    return render_template('index.html')"
   ]
  },
  {
   "cell_type": "markdown",
   "id": "3bd623a5-a03c-43b8-a408-c60ea29b17fd",
   "metadata": {},
   "source": [
    "Routes used to send various files to the client: CSS, JavaScript, photos, and videos."
   ]
  },
  {
   "cell_type": "code",
   "execution_count": null,
   "id": "c25fd6eb-2caa-4605-a4cc-f1975040a340",
   "metadata": {},
   "outputs": [],
   "source": [
    "@app.route('/<path:filename>')\n",
    "def serve_static(filename):\n",
    "    return send_from_directory('templates', filename)\n",
    "\n",
    "\n",
    "@app.route('/photo/<path:filename>')\n",
    "def serve_static_photo(filename):\n",
    "    return send_from_directory('templates', filename)\n",
    "\n",
    "\n",
    "@app.route('/video/<path:filename>')\n",
    "def serve_static_video(filename):\n",
    "    return send_from_directory('templates', filename)"
   ]
  },
  {
   "cell_type": "markdown",
   "id": "b5632799-92e7-4c11-a13e-86562e583b4c",
   "metadata": {},
   "source": [
    "Route used to open the settings page."
   ]
  },
  {
   "cell_type": "code",
   "execution_count": null,
   "id": "09b7ed2d-4e1e-491e-8e94-612da1806f2f",
   "metadata": {},
   "outputs": [],
   "source": [
    "@app.route('/settings/<path:filename>')\n",
    "def serve_static_settings(filename):\n",
    "    return send_from_directory('templates', filename)"
   ]
  },
  {
   "cell_type": "markdown",
   "id": "60fa714a-3c8e-4ddf-80a9-f753e70704f0",
   "metadata": {},
   "source": [
    "Route used to return from the settings page to the homepage."
   ]
  },
  {
   "cell_type": "code",
   "execution_count": null,
   "id": "5000a9a2-fd41-4ad0-abab-963bc07f559f",
   "metadata": {},
   "outputs": [],
   "source": [
    "@app.route('/index')\n",
    "def serve_static_home(filename):\n",
    "    return redirect(url_for('index'))"
   ]
  },
  {
   "cell_type": "markdown",
   "id": "259624c0-d591-4e58-b4d3-b9a7699f1445",
   "metadata": {},
   "source": [
    "Function used to obtain real-time video frames, sourced from the open-source project Flask Video Streaming."
   ]
  },
  {
   "cell_type": "code",
   "execution_count": null,
   "id": "e04a09d6-d4f9-4500-a866-e21dec32b7ac",
   "metadata": {},
   "outputs": [],
   "source": [
    "def gen(cameraInput):\n",
    "    \"\"\"Video streaming generator function.\"\"\"\n",
    "    yield b'--frame\\r\\n'\n",
    "    while True:\n",
    "        frame = cameraInput.get_frame()\n",
    "        yield b'Content-Type: image/jpeg\\r\\n\\r\\n' + frame + b'\\r\\n--frame\\r\\n'"
   ]
  },
  {
   "cell_type": "markdown",
   "id": "5fa4773a-7f8e-4131-a1a1-59e38f5178bb",
   "metadata": {},
   "source": [
    "Route used to display real-time video frames on the webpage."
   ]
  },
  {
   "cell_type": "code",
   "execution_count": null,
   "id": "d4d0b3fd-0c9b-4cba-801c-2385843ee98a",
   "metadata": {},
   "outputs": [],
   "source": [
    "@app.route('/video_feed')\n",
    "def video_feed():\n",
    "    \"\"\"Video streaming route. Put this in the src attribute of an img tag.\"\"\"\n",
    "    return Response(gen(camera),\n",
    "                    mimetype='multipart/x-mixed-replace; boundary=frame')"
   ]
  },
  {
   "cell_type": "markdown",
   "id": "f22ce5b6-42f7-4b2d-ac68-97a940dca380",
   "metadata": {},
   "source": [
    "Route used to obtain a list of photo names in the photo folder."
   ]
  },
  {
   "cell_type": "code",
   "execution_count": null,
   "id": "2d0b21e6-2a05-40da-8ecc-bfd2a5681dd9",
   "metadata": {},
   "outputs": [],
   "source": [
    "@app.route('/get_photo_names')\n",
    "def get_photo_names():\n",
    "    photo_files = sorted(os.listdir(thisPath + '/static'), key=lambda x: os.path.getmtime(os.path.join(thisPath + '/static', x)), reverse=True)\n",
    "    return jsonify(photo_files)"
   ]
  },
  {
   "cell_type": "markdown",
   "id": "5a508b38-2866-4edf-ab5d-95b39ecf8653",
   "metadata": {},
   "source": [
    "Route used to send images to the webpage."
   ]
  },
  {
   "cell_type": "code",
   "execution_count": null,
   "id": "78da5887-51cc-4c80-92e1-ea69df0d7647",
   "metadata": {},
   "outputs": [],
   "source": [
    "@app.route('/get_photo/<filename>')\n",
    "def get_photo(filename):\n",
    "    return send_from_directory(thisPath + '/static', filename)"
   ]
  },
  {
   "cell_type": "markdown",
   "id": "1fb31fbd-49a2-4fa2-a1f3-3dcd876fbef6",
   "metadata": {},
   "source": [
    "Route used to delete images."
   ]
  },
  {
   "cell_type": "code",
   "execution_count": null,
   "id": "d6abeb52-4aae-4c4f-b2b5-333146d4b290",
   "metadata": {},
   "outputs": [],
   "source": [
    "@app.route('/delete_photo', methods=['POST'])\n",
    "def delete_photo():\n",
    "    filename = request.form.get('filename')\n",
    "    try:\n",
    "        os.remove(os.path.join(thisPath + '/static', filename))\n",
    "        return jsonify(success=True)\n",
    "    except Exception as e:\n",
    "        print(e)\n",
    "        return jsonify(success=False)"
   ]
  },
  {
   "cell_type": "markdown",
   "id": "8a0272e7-5337-4718-a668-b5eba4b73c57",
   "metadata": {},
   "source": [
    "\n",
    "The following functions perform similar functions, but are used to manipulate videos."
   ]
  },
  {
   "cell_type": "code",
   "execution_count": null,
   "id": "a09fe67e-7003-4d93-9323-14d2b0c5431c",
   "metadata": {},
   "outputs": [],
   "source": [
    "@app.route('/delete_video', methods=['POST'])\n",
    "def delete_video():\n",
    "    filename = request.form.get('filename')\n",
    "    try:\n",
    "        os.remove(os.path.join(thisPath + '/videos', filename))\n",
    "        return jsonify(success=True)\n",
    "    except Exception as e:\n",
    "        print(e)\n",
    "        return jsonify(success=False)\n",
    "\n",
    "\n",
    "@app.route('/get_video_names')\n",
    "def get_video_names():\n",
    "    video_files = sorted(\n",
    "        [filename for filename in os.listdir(thisPath + '/videos/') if filename.endswith('.mp4')],\n",
    "        key=lambda filename: os.path.getctime(os.path.join(thisPath + '/videos/', filename)),\n",
    "        reverse=True\n",
    "    )\n",
    "    return jsonify(video_files)\n",
    "\n",
    "\n",
    "@app.route('/videos/<path:filename>')\n",
    "def videos(filename):\n",
    "    return send_from_directory(thisPath + '/videos', filename)"
   ]
  },
  {
   "cell_type": "markdown",
   "id": "6cf8d83d-7499-496e-a89f-66c2693f4128",
   "metadata": {},
   "source": [
    "Using a method that iterates through each file internally to obtain the size of a folder will result in significant resource consumption.\r\n",
    "\r\n",
    "\r\n"
   ]
  },
  {
   "cell_type": "code",
   "execution_count": null,
   "id": "8c02cbad-47e7-4015-9077-49e0f7644396",
   "metadata": {},
   "outputs": [],
   "source": [
    "def get_folder_size(folder_path):\n",
    "    total_size = 0\n",
    "    for dirpath, dirnames, filenames in os.walk(folder_path):\n",
    "        for filename in filenames:\n",
    "            file_path = os.path.join(dirpath, filename)\n",
    "            total_size += os.path.getsize(file_path)\n",
    "    # Convert total_size to MB\n",
    "    size_in_mb = total_size / (1024 * 1024)\n",
    "    return round(size_in_mb,2)"
   ]
  },
  {
   "cell_type": "markdown",
   "id": "a8210e5d-6796-48d0-a532-6dd0086de957",
   "metadata": {},
   "source": [
    "WebSocket routes are used to receive JSON instructions from the client. Some instructions are high-frequency and require low latency, so WebSocket is used here instead of HTTP. WebSocket is connection-oriented, allowing multiple communications per connection, while HTTP is connectionless, requiring connection establishment-communication-connection destruction for each request. HTTP is not suitable for high-frequency low-latency communication (HTTP's advantage is simplicity)."
   ]
  },
  {
   "cell_type": "code",
   "execution_count": null,
   "id": "d348d036-04e9-44ee-a623-ba757acd4408",
   "metadata": {},
   "outputs": [],
   "source": [
    "@socketio.on('json', namespace='/json')\n",
    "def handle_socket_json(json):\n",
    "    try:\n",
    "        robot.json_command_handler(json)\n",
    "    except Exception as e:\n",
    "        print(\"Error handling JSON data:\", e)\n",
    "        return"
   ]
  },
  {
   "cell_type": "markdown",
   "id": "17c894fb-41ae-4d91-b5d8-962d7a1dabb4",
   "metadata": {},
   "source": [
    "Function to update information displayed on the OLED. This function is executed in a separate thread generated by threading during the main program execution. There is another function that feeds information to the webpage at a frequency of 10Hz. Some variables in that function are updated by this function. The information here does not require high real-time performance, so the frequency of information retrieval in this function is lower. (This function does not use time.sleep() for delay, but rather relies on get_cpu_usage() in update_device_info() to implement delay)."
   ]
  },
  {
   "cell_type": "code",
   "execution_count": null,
   "id": "603ad1c3-99d3-4c40-9764-cbdc2690c37e",
   "metadata": {},
   "outputs": [],
   "source": [
    "def oled_update():\n",
    "    global eth0_ip, wlan_ip\n",
    "    robot.base_oled(0, f\"E: No Ethernet\")\n",
    "    robot.base_oled(1, f\"W: NO {net_interface}\")\n",
    "    robot.base_oled(2, \"F/J:5000/8888\")\n",
    "    get_wifi_mode()\n",
    "    start_time = time.time()\n",
    "    last_folder_check_time = 0\n",
    "\n",
    "    while True:\n",
    "        current_time = time.time()\n",
    "\n",
    "        if current_time - last_folder_check_time > 600:\n",
    "            pic_size = get_folder_size(thisPath + '/static')\n",
    "            vid_size = get_folder_size(thisPath + '/videos')\n",
    "            last_folder_check_time = current_time\n",
    "        \n",
    "        update_device_info() # the interval of this loop is set in here\n",
    "        get_wifi_mode()\n",
    "\n",
    "        if get_ip_address('eth0') != eth0_ip:\n",
    "            eth0_ip = get_ip_address('eth0');\n",
    "            if eth0_ip:\n",
    "                robot.base_oled(0, f\"E:{eth0_ip}\")\n",
    "            else:\n",
    "                robot.base_oled(0, f\"E: No Ethernet\")\n",
    "\n",
    "        if get_ip_address(net_interface) != wlan_ip:\n",
    "            wlan_ip = get_ip_address(net_interface)\n",
    "            if wlan_ip:\n",
    "                robot.base_oled(1, f\"W:{wlan_ip}\")\n",
    "            else:\n",
    "                robot.base_oled(1, f\"W: NO {net_interface}\")\n",
    "\n",
    "        elapsed_time = current_time - start_time\n",
    "        hours = int(elapsed_time // 3600)\n",
    "        minutes = int((elapsed_time % 3600) // 60)\n",
    "        seconds = int(elapsed_time % 60)\n",
    "        robot.base_oled(3, f\"{wifi_mode} {hours:02d}:{minutes:02d}:{seconds:02d} {rssi_read}dBm\")"
   ]
  },
  {
   "cell_type": "markdown",
   "id": "ed626f9f-fe73-4bba-bed6-065d1ee67927",
   "metadata": {},
   "source": [
    "This route is used to handle command-line information sent by the client."
   ]
  },
  {
   "cell_type": "code",
   "execution_count": null,
   "id": "f7705fa4-c4bf-4f76-9320-87628e1ee600",
   "metadata": {},
   "outputs": [],
   "source": [
    "@app.route('/send_command', methods=['POST'])\n",
    "def handle_command():\n",
    "    command = request.form['command']\n",
    "    print(\"Received command:\", command)\n",
    "    # camera.info_update(\"CMD:\" + command, (0,255,255), 0.36)\n",
    "    camera.cmd_process(command)\n",
    "    return jsonify({\"status\": \"success\", \"message\": \"Command received\"})"
   ]
  },
  {
   "cell_type": "markdown",
   "id": "b13c40e4-de7f-4fe2-b507-c9bdf866b391",
   "metadata": {},
   "source": [
    "\n",
    "Route used to obtain a list of audio files stored in the sounds/other folder."
   ]
  },
  {
   "cell_type": "code",
   "execution_count": null,
   "id": "f4140520-8f70-4e1a-b916-e6e906f1cfdd",
   "metadata": {},
   "outputs": [],
   "source": [
    "@app.route('/getAudioFiles', methods=['GET'])\n",
    "def get_audio_files():\n",
    "    files = [f for f in os.listdir(UPLOAD_FOLDER) if os.path.isfile(os.path.join(UPLOAD_FOLDER, f))]\n",
    "    return jsonify(files)"
   ]
  },
  {
   "cell_type": "markdown",
   "id": "acbd36fd-e375-457f-9ffb-10dfe9a7f889",
   "metadata": {},
   "source": [
    "Route used to implement drag-and-drop upload functionality on the webpage. The uploaded audio files are saved in the sounds/other folder."
   ]
  },
  {
   "cell_type": "code",
   "execution_count": null,
   "id": "8a21f685-85d3-4f79-9279-e8ca1931481c",
   "metadata": {},
   "outputs": [],
   "source": [
    "@app.route('/uploadAudio', methods=['POST'])\n",
    "def upload_audio():\n",
    "    if 'file' not in request.files:\n",
    "        return jsonify({'error': 'No file part'})\n",
    "    file = request.files['file']\n",
    "    if file.filename == '':\n",
    "        return jsonify({'error': 'No selected file'})\n",
    "    if file:\n",
    "        filename = secure_filename(file.filename)\n",
    "        file.save(os.path.join(UPLOAD_FOLDER, filename))\n",
    "        return jsonify({'success': 'File uploaded successfully'})"
   ]
  },
  {
   "cell_type": "markdown",
   "id": "3f9a6887-231b-47ea-82be-046b89b27fd4",
   "metadata": {},
   "source": [
    "Route used to play audio files stored in the sounds/other folder."
   ]
  },
  {
   "cell_type": "code",
   "execution_count": null,
   "id": "74d0a5b4-e4db-41e8-8974-7aecb62003f2",
   "metadata": {},
   "outputs": [],
   "source": [
    "@app.route('/playAudio', methods=['POST'])\n",
    "def play_audio():\n",
    "    audio_file = request.form['audio_file']\n",
    "    print(thisPath + '/sounds/others/' + audio_file)\n",
    "    robot.audio_play(thisPath + '/sounds/others/' + audio_file)\n",
    "    return jsonify({'success': 'Audio is playing'})"
   ]
  },
  {
   "cell_type": "markdown",
   "id": "47a48422-c5af-4aba-abe9-06c63103aff2",
   "metadata": {},
   "source": [
    "\n",
    "Route used to stop playback."
   ]
  },
  {
   "cell_type": "code",
   "execution_count": null,
   "id": "b41997bf-e7df-4c91-b119-280dc6a6bffe",
   "metadata": {},
   "outputs": [],
   "source": [
    "@app.route('/stop_audio', methods=['POST'])\n",
    "def audio_stop():\n",
    "    robot.audio_stop()\n",
    "    return jsonify({'success': 'Audio stop'})"
   ]
  },
  {
   "cell_type": "markdown",
   "id": "87f9386d-65be-471d-91c3-a3274249416f",
   "metadata": {},
   "source": [
    "This function is used to execute certain command-line instructions automatically at startup. It will be executed automatically when the main program starts. You can freely add more instructions. Here are some examples:\n",
    "\n",
    "- base -c {\"T\":142,\"cmd\":50}: Sets the feedback interval for the base. The default loop of the base has no delay. Adding a parameter of 50ms helps to improve the efficiency of the upper computer (decoding the serial port information from the lower computer also consumes resources).\n",
    "- base -c {\"T\":131,\"cmd\":1}: Enables continuous feedback from the base, so that feedback information is automatically sent continuously instead of in a request-response manner.\n",
    "- base -c {\"T\":143,\"cmd\":0}: Disables echo, so the base does not echo the original information sent to it. This saves resources, especially when controlling the base with high-frequency instructions.\n",
    "- base -c {\"T\":4,\"cmd\":2}: Sets the type of peripheral for the base. 0 means no peripheral, 1 means a manipulator, and 2 means a gimbal.\n",
    "- base -c {\"T\":300,\"mode\":0,\"mac\":\"EF:EF:EF:EF:EF:EF\"}: Configures the base to not be controlled by ESP-NOW broadcast signals, but only by ESP-NOW instructions sent from the MAC address EF:EF:EF:EF:EF:EF. You can change this MAC address as needed.\n",
    "- send -a -b: Adds the broadcast address to the ESP-NOW peer list of the lower computer, facilitating inter-device communication functionalities.alities."
   ]
  },
  {
   "cell_type": "code",
   "execution_count": null,
   "id": "94f3ccd0-b771-46df-9139-d948a58d2ce5",
   "metadata": {},
   "outputs": [],
   "source": [
    "def cmd_on_boot():\n",
    "    cmd_list = [\n",
    "        'base -c {\"T\":142,\"cmd\":50}',   # set feedback interval\n",
    "        'base -c {\"T\":131,\"cmd\":1}',    # serial feedback flow on\n",
    "        'base -c {\"T\":143,\"cmd\":0}',    # serial echo off\n",
    "        'base -c {\"T\":4,\"cmd\":2}',      # select the module - 0:None 1:RoArm-M2-S 2:Gimbal\n",
    "        'base -c {\"T\":300,\"mode\":0,\"mac\":\"EF:EF:EF:EF:EF:EF\"}',  # the base won't be ctrl by esp-now broadcast cmd, but it can still recv broadcast megs.\n",
    "        'send -a -b'    # add broadcast mac addr to peer\n",
    "    ]\n",
    "    for i in range(0, len(cmd_list)):\n",
    "        camera.cmd_process(cmd_list[i])"
   ]
  },
  {
   "cell_type": "markdown",
   "id": "4d86b129-c9bb-4b37-a821-5f1d8ef15c03",
   "metadata": {},
   "source": [
    "When the main program is running, it will perform the following tasks:"
   ]
  },
  {
   "cell_type": "code",
   "execution_count": null,
   "id": "c29c3bc5-ba62-485b-9eef-1089f6e59fdf",
   "metadata": {},
   "outputs": [],
   "source": [
    "if __name__ == '__main__':\n",
    "    # Randomly play an audio file from the sounds/robot_started folder\n",
    "    robot.play_random_audio(\"robot_started\", False)\n",
    "    \n",
    "    # Turn on the LED lights\n",
    "    robot.set_led_mode_on()\n",
    "    \n",
    "    # Create a separate thread for update_data_websocket()\n",
    "    date_update_thread = threading.Thread(target=update_data_websocket, daemon=True)\n",
    "    date_update_thread.start()\n",
    "    \n",
    "    # Create another thread for update_data_websocket()\n",
    "    oled_update_thread = threading.Thread(target=oled_update, daemon=True)\n",
    "    oled_update_thread.start()\n",
    "    \n",
    "    # Get the size of the photo folder\n",
    "    pic_size = get_folder_size(thisPath + '/static')\n",
    "    \n",
    "    # Get the size of the video folder\n",
    "    vid_size = get_folder_size(thisPath + '/videos')\n",
    "    \n",
    "    # Turn off the LED lights\n",
    "    robot.set_led_mode_off()\n",
    "    \n",
    "    # Execute commands on boot\n",
    "    cmd_on_boot()\n",
    "    \n",
    "    # Start the Flask application server\n",
    "    socketio.run(app, host='0.0.0.0', port=5000, allow_unsafe_werkzeug=True)"
   ]
  }
 ],
 "metadata": {
  "kernelspec": {
   "display_name": "Python 3 (ipykernel)",
   "language": "python",
   "name": "python3"
  },
  "language_info": {
   "codemirror_mode": {
    "name": "ipython",
    "version": 3
   },
   "file_extension": ".py",
   "mimetype": "text/x-python",
   "name": "python",
   "nbconvert_exporter": "python",
   "pygments_lexer": "ipython3",
   "version": "3.11.2"
  }
 },
 "nbformat": 4,
 "nbformat_minor": 5
}
